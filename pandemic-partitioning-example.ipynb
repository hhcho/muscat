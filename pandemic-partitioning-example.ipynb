{
 "cells": [
  {
   "cell_type": "markdown",
   "id": "bff221e7",
   "metadata": {},
   "source": [
    "# PETs Prize Challenge\n",
    "\n",
    "Pandemic Forecasting Track Partitioning Example\n",
    "\n",
    "Last Updated: January 6, 2023\n",
    "\n",
    "This notebook demonstrates how to generate an example partition for the Pandemic Forecasting Track of the PETs Prize Challenge:\n",
    "- [U.S. Link](https://www.drivendata.org/competitions/103/nist-federated-learning-2-pandemic-forecasting-federated)\n",
    "- [U.K. Link](https://www.drivendata.org/competitions/141/uk-federated-learning-2-pandemic-forecasting-federated/)\n",
    "\n",
    "The partitions should be organized in a `data` directory following the schema specified in the [runtime repo](https://github.com/drivendataorg/pets-prize-challenge-runtime#data-1). The following example shows what the `data` directory would look like with 3 partitions:\n",
    "\n",
    "\n",
    "```\n",
    "❯ tree data/pandemic/scenario01\n",
    "data/pandemic/scenario01\n",
    "├── test\n",
    "│   ├── client01\n",
    "│   │   ├── predictions_format.csv\n",
    "│   │   ├── va_activity_location_assignment.csv.gz\n",
    "│   │   ├── va_activity_locations.csv.gz\n",
    "│   │   ├── va_disease_outcome_training.csv.gz\n",
    "│   │   ├── va_household.csv.gz\n",
    "│   │   ├── va_person.csv.gz\n",
    "│   │   ├── va_population_network.csv.gz\n",
    "│   │   └── va_residence_locations.csv.gz\n",
    "│   ├── client02\n",
    "│   │   ├── predictions_format.csv\n",
    "│   │   ├── va_activity_location_assignment.csv.gz\n",
    "│   │   ├── va_activity_locations.csv.gz\n",
    "│   │   ├── va_disease_outcome_training.csv.gz\n",
    "│   │   ├── va_household.csv.gz\n",
    "│   │   ├── va_person.csv.gz\n",
    "│   │   ├── va_population_network.csv.gz\n",
    "│   │   └── va_residence_locations.csv.gz\n",
    "│   ├── client03\n",
    "│   │   ├── ...\n",
    "│   └── partitions.json\n",
    "└── train\n",
    "    ├── client01\n",
    "    │   ├── va_activity_location_assignment.csv.gz\n",
    "    │   ├── va_activity_locations.csv.gz\n",
    "    │   ├── va_disease_outcome_training.csv.gz\n",
    "    │   ├── va_household.csv.gz\n",
    "    │   ├── va_person.csv.gz\n",
    "    │   ├── va_population_network.csv.gz\n",
    "    │   └── va_residence_locations.csv.gz\n",
    "    ├── client02\n",
    "    │   ├── va_activity_location_assignment.csv.gz\n",
    "    │   ├── va_activity_locations.csv.gz\n",
    "    │   ├── va_disease_outcome_training.csv.gz\n",
    "    │   ├── va_household.csv.gz\n",
    "    │   ├── va_person.csv.gz\n",
    "    │   ├── va_population_network.csv.gz\n",
    "    │   └── va_residence_locations.csv.gz\n",
    "    ├── client03\n",
    "    │   ├── ...\n",
    "    └── partitions.json\n",
    "```\n",
    "\n",
    "Note that \"feature\" data csvs appear in both train and test data. However, test data will have an additional csv, `predictions_format.csv`, that will specify the index and columns of your predictions.\n",
    "\n",
    "For more information on how to generate and test your federated solutions, check out the federated code submission pages:\n",
    "- [U.S. Federated Code Submission Page](https://www.drivendata.org/competitions/103/nist-federated-learning-2-pandemic-forecasting-federated/page/581/)\n",
    "- [U.K. Federated Code Submission Page](https://www.drivendata.org/competitions/141/uk-federated-learning-2-pandemic-forecasting-federated/page/643/)\n",
    "\n",
    "Let's get started!"
   ]
  },
  {
   "cell_type": "markdown",
   "id": "c567a2f4",
   "metadata": {},
   "source": [
    "## Import libraries"
   ]
  },
  {
   "cell_type": "code",
   "execution_count": 1,
   "id": "b1cf6f08",
   "metadata": {},
   "outputs": [],
   "source": [
    "from collections import defaultdict\n",
    "from pathlib import Path\n",
    "\n",
    "import numpy as np\n",
    "import pandas as pd"
   ]
  },
  {
   "cell_type": "markdown",
   "id": "2d3f61c0",
   "metadata": {},
   "source": [
    "## Fetch and inspect data\n",
    "\n",
    "In this example, we'll be partitioning the Phase 1 Virginia (VA) development dataset. For Phase 2 evaluation, we'll be using the VA dataset for both U.S. and U.K. competitions."
   ]
  },
  {
   "cell_type": "code",
   "execution_count": 2,
   "id": "55ad753c",
   "metadata": {},
   "outputs": [],
   "source": [
    "# Read from local data path\n",
    "DATA = Path.cwd() / \"../data/\"\n",
    "FINAL = DATA / \"final\" / \"phase_1\" / \"pandemic_forecasting\" / \"compressed\""
   ]
  },
  {
   "cell_type": "code",
   "execution_count": 3,
   "id": "9da50a47",
   "metadata": {},
   "outputs": [],
   "source": [
    "# Import and inspect residence, household, and person tables\n",
    "residence_locations_df = pd.read_csv(FINAL / \"va_residence_locations.csv.gz\")\n",
    "household_df = pd.read_csv(FINAL / \"va_household.csv.gz\")\n",
    "person_df = pd.read_csv(FINAL / \"va_person.csv.gz\")\n",
    "person_df = person_df.merge(\n",
    "    right=household_df[[\"hid\", \"admin2\"]],\n",
    "    on=\"hid\",\n",
    "    how=\"inner\",\n",
    ")"
   ]
  },
  {
   "cell_type": "code",
   "execution_count": 4,
   "id": "8d88c472",
   "metadata": {},
   "outputs": [
    {
     "data": {
      "text/html": [
       "<div>\n",
       "<style scoped>\n",
       "    .dataframe tbody tr th:only-of-type {\n",
       "        vertical-align: middle;\n",
       "    }\n",
       "\n",
       "    .dataframe tbody tr th {\n",
       "        vertical-align: top;\n",
       "    }\n",
       "\n",
       "    .dataframe thead th {\n",
       "        text-align: right;\n",
       "    }\n",
       "</style>\n",
       "<table border=\"1\" class=\"dataframe\">\n",
       "  <thead>\n",
       "    <tr style=\"text-align: right;\">\n",
       "      <th></th>\n",
       "      <th>rlid</th>\n",
       "      <th>longitude</th>\n",
       "      <th>latitude</th>\n",
       "      <th>admin1</th>\n",
       "      <th>admin2</th>\n",
       "    </tr>\n",
       "  </thead>\n",
       "  <tbody>\n",
       "    <tr>\n",
       "      <th>0</th>\n",
       "      <td>1000000001</td>\n",
       "      <td>-75.486497</td>\n",
       "      <td>38.000083</td>\n",
       "      <td>51</td>\n",
       "      <td>1</td>\n",
       "    </tr>\n",
       "    <tr>\n",
       "      <th>1</th>\n",
       "      <td>1000000002</td>\n",
       "      <td>-75.473003</td>\n",
       "      <td>37.997079</td>\n",
       "      <td>51</td>\n",
       "      <td>1</td>\n",
       "    </tr>\n",
       "    <tr>\n",
       "      <th>2</th>\n",
       "      <td>1000000003</td>\n",
       "      <td>-75.471243</td>\n",
       "      <td>37.997374</td>\n",
       "      <td>51</td>\n",
       "      <td>1</td>\n",
       "    </tr>\n",
       "    <tr>\n",
       "      <th>3</th>\n",
       "      <td>1000000004</td>\n",
       "      <td>-75.424909</td>\n",
       "      <td>38.009950</td>\n",
       "      <td>51</td>\n",
       "      <td>1</td>\n",
       "    </tr>\n",
       "    <tr>\n",
       "      <th>4</th>\n",
       "      <td>1000000005</td>\n",
       "      <td>-75.415167</td>\n",
       "      <td>38.001239</td>\n",
       "      <td>51</td>\n",
       "      <td>1</td>\n",
       "    </tr>\n",
       "  </tbody>\n",
       "</table>\n",
       "</div>"
      ],
      "text/plain": [
       "         rlid  longitude   latitude  admin1  admin2\n",
       "0  1000000001 -75.486497  38.000083      51       1\n",
       "1  1000000002 -75.473003  37.997079      51       1\n",
       "2  1000000003 -75.471243  37.997374      51       1\n",
       "3  1000000004 -75.424909  38.009950      51       1\n",
       "4  1000000005 -75.415167  38.001239      51       1"
      ]
     },
     "execution_count": 4,
     "metadata": {},
     "output_type": "execute_result"
    }
   ],
   "source": [
    "residence_locations_df.head()"
   ]
  },
  {
   "cell_type": "code",
   "execution_count": 5,
   "id": "fbe0e6d2",
   "metadata": {},
   "outputs": [
    {
     "data": {
      "text/html": [
       "<div>\n",
       "<style scoped>\n",
       "    .dataframe tbody tr th:only-of-type {\n",
       "        vertical-align: middle;\n",
       "    }\n",
       "\n",
       "    .dataframe tbody tr th {\n",
       "        vertical-align: top;\n",
       "    }\n",
       "\n",
       "    .dataframe thead th {\n",
       "        text-align: right;\n",
       "    }\n",
       "</style>\n",
       "<table border=\"1\" class=\"dataframe\">\n",
       "  <thead>\n",
       "    <tr style=\"text-align: right;\">\n",
       "      <th></th>\n",
       "      <th>hid</th>\n",
       "      <th>rlid</th>\n",
       "      <th>admin1</th>\n",
       "      <th>admin2</th>\n",
       "      <th>hh_size</th>\n",
       "    </tr>\n",
       "  </thead>\n",
       "  <tbody>\n",
       "    <tr>\n",
       "      <th>0</th>\n",
       "      <td>0</td>\n",
       "      <td>1001001400</td>\n",
       "      <td>51</td>\n",
       "      <td>1</td>\n",
       "      <td>2</td>\n",
       "    </tr>\n",
       "    <tr>\n",
       "      <th>1</th>\n",
       "      <td>1</td>\n",
       "      <td>1001054289</td>\n",
       "      <td>51</td>\n",
       "      <td>1</td>\n",
       "      <td>2</td>\n",
       "    </tr>\n",
       "    <tr>\n",
       "      <th>2</th>\n",
       "      <td>2</td>\n",
       "      <td>1001317942</td>\n",
       "      <td>51</td>\n",
       "      <td>1</td>\n",
       "      <td>4</td>\n",
       "    </tr>\n",
       "    <tr>\n",
       "      <th>3</th>\n",
       "      <td>3</td>\n",
       "      <td>1001581554</td>\n",
       "      <td>51</td>\n",
       "      <td>1</td>\n",
       "      <td>2</td>\n",
       "    </tr>\n",
       "    <tr>\n",
       "      <th>4</th>\n",
       "      <td>4</td>\n",
       "      <td>1001819627</td>\n",
       "      <td>51</td>\n",
       "      <td>1</td>\n",
       "      <td>2</td>\n",
       "    </tr>\n",
       "  </tbody>\n",
       "</table>\n",
       "</div>"
      ],
      "text/plain": [
       "   hid        rlid  admin1  admin2  hh_size\n",
       "0    0  1001001400      51       1        2\n",
       "1    1  1001054289      51       1        2\n",
       "2    2  1001317942      51       1        4\n",
       "3    3  1001581554      51       1        2\n",
       "4    4  1001819627      51       1        2"
      ]
     },
     "execution_count": 5,
     "metadata": {},
     "output_type": "execute_result"
    }
   ],
   "source": [
    "household_df.head()"
   ]
  },
  {
   "cell_type": "code",
   "execution_count": 6,
   "id": "422ff508",
   "metadata": {},
   "outputs": [
    {
     "data": {
      "text/html": [
       "<div>\n",
       "<style scoped>\n",
       "    .dataframe tbody tr th:only-of-type {\n",
       "        vertical-align: middle;\n",
       "    }\n",
       "\n",
       "    .dataframe tbody tr th {\n",
       "        vertical-align: top;\n",
       "    }\n",
       "\n",
       "    .dataframe thead th {\n",
       "        text-align: right;\n",
       "    }\n",
       "</style>\n",
       "<table border=\"1\" class=\"dataframe\">\n",
       "  <thead>\n",
       "    <tr style=\"text-align: right;\">\n",
       "      <th></th>\n",
       "      <th>hid</th>\n",
       "      <th>pid</th>\n",
       "      <th>person_number</th>\n",
       "      <th>age</th>\n",
       "      <th>sex</th>\n",
       "      <th>admin2</th>\n",
       "    </tr>\n",
       "  </thead>\n",
       "  <tbody>\n",
       "    <tr>\n",
       "      <th>0</th>\n",
       "      <td>0</td>\n",
       "      <td>0</td>\n",
       "      <td>1</td>\n",
       "      <td>52</td>\n",
       "      <td>1</td>\n",
       "      <td>1</td>\n",
       "    </tr>\n",
       "    <tr>\n",
       "      <th>1</th>\n",
       "      <td>0</td>\n",
       "      <td>1</td>\n",
       "      <td>2</td>\n",
       "      <td>55</td>\n",
       "      <td>2</td>\n",
       "      <td>1</td>\n",
       "    </tr>\n",
       "    <tr>\n",
       "      <th>2</th>\n",
       "      <td>1</td>\n",
       "      <td>2</td>\n",
       "      <td>1</td>\n",
       "      <td>50</td>\n",
       "      <td>2</td>\n",
       "      <td>1</td>\n",
       "    </tr>\n",
       "    <tr>\n",
       "      <th>3</th>\n",
       "      <td>1</td>\n",
       "      <td>3</td>\n",
       "      <td>2</td>\n",
       "      <td>57</td>\n",
       "      <td>1</td>\n",
       "      <td>1</td>\n",
       "    </tr>\n",
       "    <tr>\n",
       "      <th>4</th>\n",
       "      <td>2</td>\n",
       "      <td>4</td>\n",
       "      <td>1</td>\n",
       "      <td>33</td>\n",
       "      <td>2</td>\n",
       "      <td>1</td>\n",
       "    </tr>\n",
       "  </tbody>\n",
       "</table>\n",
       "</div>"
      ],
      "text/plain": [
       "   hid  pid  person_number  age  sex  admin2\n",
       "0    0    0              1   52    1       1\n",
       "1    0    1              2   55    2       1\n",
       "2    1    2              1   50    2       1\n",
       "3    1    3              2   57    1       1\n",
       "4    2    4              1   33    2       1"
      ]
     },
     "execution_count": 6,
     "metadata": {},
     "output_type": "execute_result"
    }
   ],
   "source": [
    "person_df.head()"
   ]
  },
  {
   "cell_type": "code",
   "execution_count": 7,
   "id": "e454e5a2",
   "metadata": {},
   "outputs": [
    {
     "name": "stdout",
     "output_type": "stream",
     "text": [
      "133\n"
     ]
    },
    {
     "data": {
      "text/plain": [
       "array([  1,   3,   5,   7,   9,  11,  13,  15,  17,  19,  21,  23,  25,\n",
       "        27,  29,  31,  33,  35,  36,  37,  41,  43,  45,  47,  49,  51,\n",
       "        53,  57,  59,  61,  63,  65,  67,  69,  71,  73,  75,  77,  79,\n",
       "        81,  83,  85,  87,  89,  91,  93,  95,  97,  99, 101, 103, 105,\n",
       "       107, 109, 111, 113, 115, 117, 119, 121, 125, 127, 131, 133, 135,\n",
       "       137, 139, 141, 143, 145, 147, 149, 153, 155, 157, 159, 161, 163,\n",
       "       165, 167, 169, 171, 173, 175, 177, 179, 181, 183, 185, 187, 191,\n",
       "       193, 195, 197, 199, 510, 520, 530, 540, 550, 570, 580, 590, 595,\n",
       "       600, 610, 620, 630, 640, 650, 660, 670, 678, 680, 683, 685, 690,\n",
       "       700, 710, 720, 730, 735, 740, 750, 760, 770, 775, 790, 800, 810,\n",
       "       820, 830, 840])"
      ]
     },
     "execution_count": 7,
     "metadata": {},
     "output_type": "execute_result"
    }
   ],
   "source": [
    "# How many unique counties are there?\n",
    "print(household_df.admin2.nunique())\n",
    "household_df.admin2.unique()"
   ]
  },
  {
   "cell_type": "markdown",
   "id": "f902f9c1",
   "metadata": {},
   "source": [
    "## Generate partitions\n",
    "\n",
    "In practice, partitions should:\n",
    "- contain counties that are geographically close\n",
    "- be of roughly equal size by population\n",
    "\n",
    "We've created one such partitioning below. We've also included a function to randomly generation partitions that _do not_ meet these requirements, in case you want to quickly test your solution with n partitions."
   ]
  },
  {
   "cell_type": "code",
   "execution_count": 8,
   "id": "f5d09798",
   "metadata": {},
   "outputs": [
    {
     "data": {
      "text/html": [
       "<div>\n",
       "<style scoped>\n",
       "    .dataframe tbody tr th:only-of-type {\n",
       "        vertical-align: middle;\n",
       "    }\n",
       "\n",
       "    .dataframe tbody tr th {\n",
       "        vertical-align: top;\n",
       "    }\n",
       "\n",
       "    .dataframe thead th {\n",
       "        text-align: right;\n",
       "    }\n",
       "</style>\n",
       "<table border=\"1\" class=\"dataframe\">\n",
       "  <thead>\n",
       "    <tr style=\"text-align: right;\">\n",
       "      <th></th>\n",
       "      <th>longitude</th>\n",
       "      <th>latitude</th>\n",
       "    </tr>\n",
       "    <tr>\n",
       "      <th>admin2</th>\n",
       "      <th></th>\n",
       "      <th></th>\n",
       "    </tr>\n",
       "  </thead>\n",
       "  <tbody>\n",
       "    <tr>\n",
       "      <th>1</th>\n",
       "      <td>-75.617895</td>\n",
       "      <td>37.796605</td>\n",
       "    </tr>\n",
       "    <tr>\n",
       "      <th>3</th>\n",
       "      <td>-78.526600</td>\n",
       "      <td>38.048899</td>\n",
       "    </tr>\n",
       "    <tr>\n",
       "      <th>5</th>\n",
       "      <td>-79.946224</td>\n",
       "      <td>37.795066</td>\n",
       "    </tr>\n",
       "    <tr>\n",
       "      <th>7</th>\n",
       "      <td>-77.978057</td>\n",
       "      <td>37.341514</td>\n",
       "    </tr>\n",
       "    <tr>\n",
       "      <th>9</th>\n",
       "      <td>-79.103933</td>\n",
       "      <td>37.532631</td>\n",
       "    </tr>\n",
       "    <tr>\n",
       "      <th>...</th>\n",
       "      <td>...</td>\n",
       "      <td>...</td>\n",
       "    </tr>\n",
       "    <tr>\n",
       "      <th>800</th>\n",
       "      <td>-76.568417</td>\n",
       "      <td>36.768444</td>\n",
       "    </tr>\n",
       "    <tr>\n",
       "      <th>810</th>\n",
       "      <td>-76.096160</td>\n",
       "      <td>36.816578</td>\n",
       "    </tr>\n",
       "    <tr>\n",
       "      <th>820</th>\n",
       "      <td>-78.897132</td>\n",
       "      <td>38.071925</td>\n",
       "    </tr>\n",
       "    <tr>\n",
       "      <th>830</th>\n",
       "      <td>-76.714385</td>\n",
       "      <td>37.275941</td>\n",
       "    </tr>\n",
       "    <tr>\n",
       "      <th>840</th>\n",
       "      <td>-78.171743</td>\n",
       "      <td>39.176259</td>\n",
       "    </tr>\n",
       "  </tbody>\n",
       "</table>\n",
       "<p>133 rows × 2 columns</p>\n",
       "</div>"
      ],
      "text/plain": [
       "        longitude   latitude\n",
       "admin2                      \n",
       "1      -75.617895  37.796605\n",
       "3      -78.526600  38.048899\n",
       "5      -79.946224  37.795066\n",
       "7      -77.978057  37.341514\n",
       "9      -79.103933  37.532631\n",
       "...           ...        ...\n",
       "800    -76.568417  36.768444\n",
       "810    -76.096160  36.816578\n",
       "820    -78.897132  38.071925\n",
       "830    -76.714385  37.275941\n",
       "840    -78.171743  39.176259\n",
       "\n",
       "[133 rows x 2 columns]"
      ]
     },
     "execution_count": 8,
     "metadata": {},
     "output_type": "execute_result"
    }
   ],
   "source": [
    "# Plot geographical centroids\n",
    "admin2_centroids_df = residence_locations_df.groupby(\"admin2\").agg(\n",
    "    longitude=(\"longitude\", \"mean\"), latitude=(\"latitude\", \"mean\")\n",
    ")\n",
    "admin2_centroids_df"
   ]
  },
  {
   "cell_type": "code",
   "execution_count": 9,
   "id": "27055e24",
   "metadata": {},
   "outputs": [
    {
     "data": {
      "text/plain": [
       "<AxesSubplot: xlabel='longitude', ylabel='latitude'>"
      ]
     },
     "execution_count": 9,
     "metadata": {},
     "output_type": "execute_result"
    },
    {
     "data": {
      "image/png": "[encoded data removed]",
      "text/plain": [
       "<Figure size 640x480 with 1 Axes>"
      ]
     },
     "metadata": {},
     "output_type": "display_data"
    }
   ],
   "source": [
    "admin2_centroids_df.plot.scatter(x=\"longitude\", y=\"latitude\")"
   ]
  },
  {
   "cell_type": "markdown",
   "id": "256545b5",
   "metadata": {},
   "source": [
    "Let's generate 3 partitions with counties that are geographically close together using the latitude and longitude of the county centroids."
   ]
  },
  {
   "cell_type": "code",
   "execution_count": 10,
   "id": "62b8fdfd",
   "metadata": {},
   "outputs": [
    {
     "data": {
      "text/plain": [
       "<AxesSubplot: xlabel='longitude', ylabel='latitude'>"
      ]
     },
     "execution_count": 10,
     "metadata": {},
     "output_type": "execute_result"
    },
    {
     "data": {
      "image/png": "[encoded data removed]",
      "text/plain": [
       "<Figure size 640x480 with 1 Axes>"
      ]
     },
     "metadata": {},
     "output_type": "display_data"
    }
   ],
   "source": [
    "def assign_partition(row):\n",
    "    LAT_THRESH = 38.5\n",
    "    LON_THRESH = -77.5\n",
    "\n",
    "    if row.latitude >= LAT_THRESH:\n",
    "        return \"client01\"\n",
    "    if row.longitude < LON_THRESH:\n",
    "        return \"client02\"\n",
    "    return \"client03\"\n",
    "\n",
    "\n",
    "# Assign partitions\n",
    "admin2_centroids_df[\"partition\"] = admin2_centroids_df.apply(assign_partition, axis=1)\n",
    "\n",
    "# Plot partitions\n",
    "cmap = dict(zip(admin2_centroids_df.partition.unique(), (\"red\", \"green\", \"blue\")))\n",
    "admin2_centroids_df.plot.scatter(\n",
    "    x=\"longitude\", y=\"latitude\", c=admin2_centroids_df.partition.map(cmap)\n",
    ")"
   ]
  },
  {
   "cell_type": "markdown",
   "id": "ff531c1b",
   "metadata": {},
   "source": [
    "Let's inspect the population counts of each partition. Remember we want them to be approximately equal."
   ]
  },
  {
   "cell_type": "code",
   "execution_count": 11,
   "id": "107e4f72",
   "metadata": {},
   "outputs": [
    {
     "data": {
      "text/plain": [
       "client01    2609976\n",
       "client02    2466650\n",
       "client03    2611433\n",
       "Name: admin2, dtype: int64"
      ]
     },
     "execution_count": 11,
     "metadata": {},
     "output_type": "execute_result"
    }
   ],
   "source": [
    "person_df.admin2.map(\n",
    "    admin2_centroids_df.partition.to_dict()\n",
    ").value_counts().sort_index()"
   ]
  },
  {
   "cell_type": "markdown",
   "id": "abd283a5",
   "metadata": {},
   "source": [
    "Looks good enough! Let's stick with these.\n",
    "\n",
    "For a different number of partitions, you'll need to come up with additional ways of segmenting counties. If you'd like to quickly test your solution with `n` partitions, you can generate less realistic random partitions using the function below."
   ]
  },
  {
   "cell_type": "code",
   "execution_count": 12,
   "id": "fce95da0",
   "metadata": {},
   "outputs": [
    {
     "name": "stdout",
     "output_type": "stream",
     "text": [
      "client01 (len = 14)\n",
      "{770, 35, 99, 163, 73, 79, 175, 81, 53, 21, 57, 187, 61, 127}\n",
      "\n",
      "client02 (len = 14)\n",
      "{197, 7, 520, 107, 620, 590, 111, 83, 51, 183, 121, 700, 157, 191}\n",
      "\n",
      "client03 (len = 14)\n",
      "{1, 33, 65, 167, 199, 139, 45, 109, 660, 117, 181, 570, 29, 31}\n",
      "\n",
      "client04 (len = 13)\n",
      "{195, 580, 37, 101, 41, 650, 685, 47, 720, 820, 600, 27, 63}\n",
      "\n",
      "client05 (len = 13)\n",
      "{97, 153, 36, 133, 740, 103, 840, 810, 173, 15, 147, 25, 670}\n",
      "\n",
      "client06 (len = 13)\n",
      "{67, 71, 775, 75, 43, 750, 690, 85, 87, 185, 91, 830, 159}\n",
      "\n",
      "client07 (len = 13)\n",
      "{640, 161, 193, 550, 137, 13, 141, 143, 115, 23, 540, 93, 510}\n",
      "\n",
      "client08 (len = 13)\n",
      "{3, 131, 69, 135, 11, 155, 171, 17, 177, 530, 735, 59, 95}\n",
      "\n",
      "client09 (len = 13)\n",
      "{800, 610, 165, 678, 169, 683, 77, 113, 179, 149, 630, 119, 730}\n",
      "\n",
      "client10 (len = 13)\n",
      "{5, 710, 680, 9, 105, 49, 145, 19, 595, 790, 760, 89, 125}\n",
      "\n"
     ]
    }
   ],
   "source": [
    "def randomly_partition_counties(n: int, counties: iter) -> dict:\n",
    "    \"\"\"Helper function to quickly generate random partitions for testing.\n",
    "    Note that this does not generate realistic partitions that will be used\n",
    "    for evaluation.\n",
    "\n",
    "    Args:\n",
    "        n (int): number of partitions\n",
    "        counties (iter): The complete set of `admin2` (county) IDs\n",
    "\n",
    "    Returns:\n",
    "        Dict where the keys are partition IDs and the values are a set of `admin2` (county) IDs\n",
    "    \"\"\"\n",
    "    # Set seed\n",
    "    np.random.seed(8)\n",
    "\n",
    "    # randomly assign counties to partitions\n",
    "    partition_ids = [(i % n) + 1 for i in range(len(counties))]\n",
    "    np.random.shuffle(partition_ids)\n",
    "    county_to_partition = dict(zip(counties, partition_ids))\n",
    "\n",
    "    # invert dictionary\n",
    "    partition_to_counties = defaultdict(set)\n",
    "    for county, partition in county_to_partition.items():\n",
    "        partition_to_counties[f\"client{partition:02}\"].add(county)\n",
    "\n",
    "    return partition_to_counties\n",
    "\n",
    "\n",
    "# test and inspect\n",
    "counties = household_df.admin2.unique()\n",
    "rand_partition_to_counties = randomly_partition_counties(10, counties)\n",
    "\n",
    "for partition in sorted(rand_partition_to_counties):\n",
    "    print(f\"{partition} (len = {len(rand_partition_to_counties[partition])})\")\n",
    "    print(f\"{rand_partition_to_counties[partition]}\\n\")"
   ]
  },
  {
   "cell_type": "markdown",
   "id": "1532093d",
   "metadata": {},
   "source": [
    "## Data Preparation\n",
    "\n",
    "### Construct sets of relevant household and person IDs for each partition"
   ]
  },
  {
   "cell_type": "code",
   "execution_count": 13,
   "id": "490c29dd",
   "metadata": {},
   "outputs": [],
   "source": [
    "# Create a map of our partitions to facilitate partitioning\n",
    "partition_to_counties = (\n",
    "    admin2_centroids_df.reset_index().groupby(\"partition\").admin2.apply(set).to_dict()\n",
    ")"
   ]
  },
  {
   "cell_type": "code",
   "execution_count": 14,
   "id": "10fe10e3",
   "metadata": {},
   "outputs": [],
   "source": [
    "partition_to_hids = {}\n",
    "partition_to_pids = {}\n",
    "\n",
    "for partition_id, counties in partition_to_counties.items():\n",
    "    partition_to_hids[partition_id] = set(\n",
    "        household_df[household_df[\"admin2\"].isin(counties)].hid\n",
    "    )\n",
    "    partition_to_pids[partition_id] = set(\n",
    "        person_df[person_df[\"admin2\"].isin(counties)].pid\n",
    "    )"
   ]
  },
  {
   "cell_type": "code",
   "execution_count": 15,
   "id": "e8926643",
   "metadata": {},
   "outputs": [],
   "source": [
    "# Free up memory\n",
    "del residence_locations_df\n",
    "del household_df\n",
    "del person_df"
   ]
  },
  {
   "cell_type": "markdown",
   "id": "66677277",
   "metadata": {},
   "source": [
    "## Partition data\n",
    "\n",
    "First, let's create directories for each partition as specified in the [runtime repo](https://github.com/drivendataorg/pets-prize-challenge-runtime#data-1), e.g.:\n",
    "\n",
    "```\n",
    "data/pandemic/scenario01\n",
    "├── test\n",
    "│   ├── client01\n",
    "│   │   ├── ...\n",
    "│   ├── ...\n",
    "│   └── partitions.json\n",
    "└── train\n",
    "    ├── client01\n",
    "    │   ├── ...\n",
    "    ├── ...\n",
    "    └── partitions.json\n",
    "```"
   ]
  },
  {
   "cell_type": "code",
   "execution_count": 16,
   "id": "f2acc263",
   "metadata": {},
   "outputs": [],
   "source": [
    "OUT_DIR = DATA / \"pandemic\" / \"scenario01\"\n",
    "TEST = OUT_DIR / \"test\"\n",
    "TRAIN = OUT_DIR / \"train\"\n",
    "\n",
    "for partition in partition_to_counties:\n",
    "    (TEST / partition).mkdir(exist_ok=True, parents=True)\n",
    "    (TRAIN / partition).mkdir(exist_ok=True, parents=True)"
   ]
  },
  {
   "cell_type": "markdown",
   "id": "a6389def",
   "metadata": {},
   "source": [
    "### Partition data based on household ID or person ID\n",
    "\n",
    "Counties within a partition have access to all information for all residents within the partition's counties, including residences, persons, and activity assignments. This is true even if an activity occurs in a county outside of that partition."
   ]
  },
  {
   "cell_type": "code",
   "execution_count": 17,
   "id": "afb7c787",
   "metadata": {},
   "outputs": [
    {
     "name": "stdout",
     "output_type": "stream",
     "text": [
      "Writing scenario01/test/client01/va_person.csv.gz...\n",
      "Writing scenario01/train/client01/va_person.csv.gz...\n",
      "Writing scenario01/test/client02/va_person.csv.gz...\n",
      "Writing scenario01/train/client02/va_person.csv.gz...\n",
      "Writing scenario01/test/client03/va_person.csv.gz...\n",
      "Writing scenario01/train/client03/va_person.csv.gz...\n",
      "Writing scenario01/test/client01/va_disease_outcome_training.csv.gz...\n",
      "Writing scenario01/train/client01/va_disease_outcome_training.csv.gz...\n",
      "Writing scenario01/test/client02/va_disease_outcome_training.csv.gz...\n",
      "Writing scenario01/train/client02/va_disease_outcome_training.csv.gz...\n",
      "Writing scenario01/test/client03/va_disease_outcome_training.csv.gz...\n",
      "Writing scenario01/train/client03/va_disease_outcome_training.csv.gz...\n",
      "Writing scenario01/test/client01/va_activity_location_assignment.csv.gz...\n",
      "Writing scenario01/train/client01/va_activity_location_assignment.csv.gz...\n",
      "Writing scenario01/test/client02/va_activity_location_assignment.csv.gz...\n",
      "Writing scenario01/train/client02/va_activity_location_assignment.csv.gz...\n",
      "Writing scenario01/test/client03/va_activity_location_assignment.csv.gz...\n",
      "Writing scenario01/train/client03/va_activity_location_assignment.csv.gz...\n",
      "Writing scenario01/test/client01/va_household.csv.gz...\n",
      "Writing scenario01/train/client01/va_household.csv.gz...\n",
      "Writing scenario01/test/client02/va_household.csv.gz...\n",
      "Writing scenario01/train/client02/va_household.csv.gz...\n",
      "Writing scenario01/test/client03/va_household.csv.gz...\n",
      "Writing scenario01/train/client03/va_household.csv.gz...\n"
     ]
    }
   ],
   "source": [
    "def partition_by_id(\n",
    "    df: pd.DataFrame,\n",
    "    partition_to_ids: dict,\n",
    "    id_col: str,\n",
    "    out_dirs: list[Path],\n",
    "    filename: str,\n",
    ") -> None:\n",
    "    \"\"\"Partitions a dataframe according to a set of IDs and writes out to disk\n",
    "\n",
    "    Args:\n",
    "        df (pd.DataFrame): The dataframe to partition\n",
    "        partition_to_ids (dict): A dictionary where the keys are the partition name and\n",
    "            the values are a set of IDs\n",
    "        id_col (str): The name of the column in `df` designating the ID to partition on\n",
    "        out_dir (List[Path]): A list of directories to write out the partitions to\n",
    "        filename (str): The filename of the partitioned csv.\n",
    "\n",
    "    Returns:\n",
    "        None\n",
    "    \"\"\"\n",
    "    for partition, ids in partition_to_ids.items():\n",
    "        part = df[df[id_col].isin(ids)]\n",
    "        for out_dir in out_dirs:\n",
    "            out_file = out_dir / str(partition) / filename\n",
    "            print(f\"Writing {out_file.relative_to(out_file.parents[3])}...\")\n",
    "            compression = \"gzip\" if filename.endswith(\"gz\") else None\n",
    "            part.to_csv(out_file, index=False, compression=compression)\n",
    "\n",
    "\n",
    "# partition datasets that rely on pid-only\n",
    "for dataset in [\n",
    "    \"va_person.csv.gz\",\n",
    "    \"va_disease_outcome_training.csv.gz\",\n",
    "    \"va_activity_location_assignment.csv.gz\",\n",
    "]:\n",
    "    partition_by_id(\n",
    "        pd.read_csv(FINAL / dataset), partition_to_pids, \"pid\", [TEST, TRAIN], dataset\n",
    "    )\n",
    "\n",
    "# partition datasets that rely on hid-only\n",
    "dataset = \"va_household.csv.gz\"\n",
    "partition_by_id(\n",
    "    pd.read_csv(FINAL / dataset), partition_to_hids, \"hid\", [TEST, TRAIN], dataset\n",
    ")"
   ]
  },
  {
   "cell_type": "code",
   "execution_count": 18,
   "id": "366fabb6",
   "metadata": {},
   "outputs": [
    {
     "data": {
      "text/html": [
       "<div>\n",
       "<style scoped>\n",
       "    .dataframe tbody tr th:only-of-type {\n",
       "        vertical-align: middle;\n",
       "    }\n",
       "\n",
       "    .dataframe tbody tr th {\n",
       "        vertical-align: top;\n",
       "    }\n",
       "\n",
       "    .dataframe thead th {\n",
       "        text-align: right;\n",
       "    }\n",
       "</style>\n",
       "<table border=\"1\" class=\"dataframe\">\n",
       "  <thead>\n",
       "    <tr style=\"text-align: right;\">\n",
       "      <th></th>\n",
       "      <th>pid</th>\n",
       "      <th>score</th>\n",
       "    </tr>\n",
       "  </thead>\n",
       "  <tbody>\n",
       "    <tr>\n",
       "      <th>0</th>\n",
       "      <td>0</td>\n",
       "      <td>0.5</td>\n",
       "    </tr>\n",
       "    <tr>\n",
       "      <th>1</th>\n",
       "      <td>1</td>\n",
       "      <td>0.5</td>\n",
       "    </tr>\n",
       "    <tr>\n",
       "      <th>2</th>\n",
       "      <td>2</td>\n",
       "      <td>0.5</td>\n",
       "    </tr>\n",
       "    <tr>\n",
       "      <th>3</th>\n",
       "      <td>3</td>\n",
       "      <td>0.5</td>\n",
       "    </tr>\n",
       "    <tr>\n",
       "      <th>4</th>\n",
       "      <td>4</td>\n",
       "      <td>0.5</td>\n",
       "    </tr>\n",
       "    <tr>\n",
       "      <th>...</th>\n",
       "      <td>...</td>\n",
       "      <td>...</td>\n",
       "    </tr>\n",
       "    <tr>\n",
       "      <th>7688054</th>\n",
       "      <td>7688054</td>\n",
       "      <td>0.5</td>\n",
       "    </tr>\n",
       "    <tr>\n",
       "      <th>7688055</th>\n",
       "      <td>7688055</td>\n",
       "      <td>0.5</td>\n",
       "    </tr>\n",
       "    <tr>\n",
       "      <th>7688056</th>\n",
       "      <td>7688056</td>\n",
       "      <td>0.5</td>\n",
       "    </tr>\n",
       "    <tr>\n",
       "      <th>7688057</th>\n",
       "      <td>7688057</td>\n",
       "      <td>0.5</td>\n",
       "    </tr>\n",
       "    <tr>\n",
       "      <th>7688058</th>\n",
       "      <td>7688058</td>\n",
       "      <td>0.5</td>\n",
       "    </tr>\n",
       "  </tbody>\n",
       "</table>\n",
       "<p>7688059 rows × 2 columns</p>\n",
       "</div>"
      ],
      "text/plain": [
       "             pid  score\n",
       "0              0    0.5\n",
       "1              1    0.5\n",
       "2              2    0.5\n",
       "3              3    0.5\n",
       "4              4    0.5\n",
       "...          ...    ...\n",
       "7688054  7688054    0.5\n",
       "7688055  7688055    0.5\n",
       "7688056  7688056    0.5\n",
       "7688057  7688057    0.5\n",
       "7688058  7688058    0.5\n",
       "\n",
       "[7688059 rows x 2 columns]"
      ]
     },
     "execution_count": 18,
     "metadata": {},
     "output_type": "execute_result"
    }
   ],
   "source": [
    "# Generate and partition a predictions_format.csv\n",
    "target = pd.read_csv(FINAL / \"va_disease_outcome_target.csv.gz\")\n",
    "\n",
    "# Set drop `infected` column and set \"score\" to a dummy pred of 0.5 for `predictions_format.csv`\n",
    "target[\"score\"] = 0.5\n",
    "target = target.drop(columns=\"infected\")\n",
    "\n",
    "target"
   ]
  },
  {
   "cell_type": "code",
   "execution_count": 19,
   "id": "ed359750",
   "metadata": {},
   "outputs": [
    {
     "name": "stdout",
     "output_type": "stream",
     "text": [
      "Writing scenario01/test/client01/predictions_format.csv...\n",
      "Writing scenario01/test/client02/predictions_format.csv...\n",
      "Writing scenario01/test/client03/predictions_format.csv...\n"
     ]
    }
   ],
   "source": [
    "# Partition. Should only be written out to `test` directories.\n",
    "partition_by_id(target, partition_to_pids, \"pid\", [TEST], \"predictions_format.csv\")"
   ]
  },
  {
   "cell_type": "markdown",
   "id": "bd8701ac",
   "metadata": {},
   "source": [
    "### Partition datasets based on location\n",
    "\n",
    "A partition knows about all residences that are located within its counties. Of locations that are outside a partition's counties, the partition knows about:\n",
    "  - all locations for all of its residents' activities\n",
    "  \n",
    "It does *not* know about locations outside of its counties that no residents visit. Additionally, it only knows about **contacts** that occurred outside of the partition's boundaries if and only if the contact occurred between two residents of the partition. Said differently, any contact that occured between residents of different partitions is not known by any partition."
   ]
  },
  {
   "cell_type": "code",
   "execution_count": 20,
   "id": "1ad9e159",
   "metadata": {},
   "outputs": [],
   "source": [
    "# First, construct the set of relevant location IDs for each partition\n",
    "# using activity location assignment and residence location tables\n",
    "\n",
    "def build_partition_to_lids_from_activities(\n",
    "    activity_loc_assignment_df: pd.DataFrame, partition_to_pids: dict\n",
    ") -> dict:\n",
    "    \"\"\"Generates the set of relevant location IDs for each partition from the activity location assignment table\n",
    "\n",
    "    Args:\n",
    "        activity_loc_assignment_df (pd.DataFrame): The activity location assignment dataframe\n",
    "        partition_to_pids (dict): A dictionary where the keys are the partition name and the values are a set of person IDs\n",
    "\n",
    "    Returns:\n",
    "        (dict) A dictionary where the keys are the partition name and the values are sets of location IDs\n",
    "    \"\"\"\n",
    "    partition_to_lids = dict()\n",
    "\n",
    "    for partition, pids in partition_to_pids.items():\n",
    "        partition_df = activity_loc_assignment_df[\n",
    "            activity_loc_assignment_df[\"pid\"].isin(pids)\n",
    "        ]\n",
    "        partition_to_lids[partition] = set(partition_df[\"lid\"])\n",
    "\n",
    "    return partition_to_lids\n",
    "\n",
    "\n",
    "def build_partition_to_lids_from_locations(\n",
    "    location_df: pd.DataFrame, partition_to_counties: dict, lid_col: str\n",
    ") -> dict:\n",
    "    \"\"\"Generates the set of relevant location IDs for each partition from a locations table\n",
    "\n",
    "    Args:\n",
    "        location_df (pd.DataFrame): The residence or activity locations dataframe\n",
    "        partition_to_counties (dict): A dictionary where the keys are the partition name and the\n",
    "            values are the set of relevant counties (`admin2`)\n",
    "\n",
    "    Returns:\n",
    "        (dict) A dictionary where the keys are the partition name and the values are sets of location IDs\n",
    "    \"\"\"\n",
    "    partition_to_lids = dict()\n",
    "\n",
    "    for partition, admin2s in partition_to_counties.items():\n",
    "        partition_to_lids[partition] = set(\n",
    "            location_df[location_df.admin2.isin(admin2s)][lid_col]\n",
    "        )\n",
    "\n",
    "    return partition_to_lids\n",
    "\n",
    "\n",
    "partition_to_lids = defaultdict(set)\n",
    "\n",
    "# iterate through dictionaries to merge\n",
    "dataset = \"va_activity_location_assignment.csv.gz\"\n",
    "for partition, lids in build_partition_to_lids_from_activities(\n",
    "    pd.read_csv(FINAL / dataset), partition_to_pids\n",
    ").items():\n",
    "    partition_to_lids[partition] |= lids\n",
    "\n",
    "dataset = \"va_residence_locations.csv.gz\"\n",
    "for partition, lids in build_partition_to_lids_from_locations(\n",
    "    pd.read_csv(FINAL / dataset), partition_to_counties, \"rlid\"\n",
    ").items():\n",
    "    partition_to_lids[partition] |= lids"
   ]
  },
  {
   "cell_type": "code",
   "execution_count": 21,
   "id": "911c8ae6",
   "metadata": {},
   "outputs": [
    {
     "name": "stdout",
     "output_type": "stream",
     "text": [
      "Writing scenario01/test/client01/va_residence_locations.csv.gz...\n",
      "Writing scenario01/train/client01/va_residence_locations.csv.gz...\n",
      "Writing scenario01/test/client02/va_residence_locations.csv.gz...\n",
      "Writing scenario01/train/client02/va_residence_locations.csv.gz...\n",
      "Writing scenario01/test/client03/va_residence_locations.csv.gz...\n",
      "Writing scenario01/train/client03/va_residence_locations.csv.gz...\n",
      "Writing scenario01/test/client01/va_activity_locations.csv.gz...\n",
      "Writing scenario01/train/client01/va_activity_locations.csv.gz...\n",
      "Writing scenario01/test/client02/va_activity_locations.csv.gz...\n",
      "Writing scenario01/train/client02/va_activity_locations.csv.gz...\n",
      "Writing scenario01/test/client03/va_activity_locations.csv.gz...\n",
      "Writing scenario01/train/client03/va_activity_locations.csv.gz...\n"
     ]
    }
   ],
   "source": [
    "# now partition datasets that rely on lid\n",
    "dataset = \"va_residence_locations.csv.gz\"\n",
    "partition_by_id(pd.read_csv(FINAL / dataset), partition_to_lids, \"rlid\", [TEST, TRAIN], dataset)\n",
    "\n",
    "dataset = \"va_activity_locations.csv.gz\"\n",
    "partition_by_id(pd.read_csv(FINAL / dataset), partition_to_lids, \"alid\", [TEST, TRAIN], dataset)"
   ]
  },
  {
   "cell_type": "markdown",
   "id": "87a03fb9",
   "metadata": {},
   "source": [
    "### Finally, partition datasets that are based on contact between two residents\n",
    "\n",
    "Counties know about all contacts for any two people who reside within the partition's counties, even if contact occurs in a county outside of that partition.\n",
    "\n",
    "Conversely, network contacts are dropped if they occur between two people who reside in counties that belong to different partitions. It does not matter if the contact occurred in a county that belongs to the partition, so long as at least one of the two people live outside the partition's counties."
   ]
  },
  {
   "cell_type": "code",
   "execution_count": 22,
   "id": "c7a5a4a8",
   "metadata": {},
   "outputs": [
    {
     "name": "stdout",
     "output_type": "stream",
     "text": [
      "Writing scenario01/test/client01/va_population_network.csv.gz...\n",
      "Writing scenario01/train/client01/va_population_network.csv.gz...\n",
      "Writing scenario01/test/client02/va_population_network.csv.gz...\n",
      "Writing scenario01/train/client02/va_population_network.csv.gz...\n",
      "Writing scenario01/test/client03/va_population_network.csv.gz...\n",
      "Writing scenario01/train/client03/va_population_network.csv.gz...\n"
     ]
    }
   ],
   "source": [
    "def partition_by_contact(\n",
    "    df: pd.DataFrame, partition_to_pids: dict, out_dirs: list[Path],\n",
    "    filename: str,\n",
    ") -> None:\n",
    "    \"\"\"Partitions network to contacts that occured between two people living in the same partition\n",
    "\n",
    "    Args:\n",
    "        df (pd.DataFrame): The dataframe to partition\n",
    "        partition_to_pids (dict): A dictionary where the keys are the partition name and the values\n",
    "            are a set of person IDs\n",
    "        id_col (str): The name of the column in `df` designating the ID to partition on\n",
    "        out_dirs (List[Path]): A list of directories to write out the partitions to\n",
    "        filename (str): The filename of the partitioned csv.\n",
    "\n",
    "    Returns:\n",
    "        None\n",
    "    \"\"\"\n",
    "    for partition, pids in partition_to_pids.items():\n",
    "        for out_dir in out_dirs:\n",
    "            out_file = out_dir / str(partition) / filename\n",
    "            print(f\"Writing {out_file.relative_to(out_file.parents[3])}...\")\n",
    "            # both individuals need to reside within the partition's counties\n",
    "            partition_df = df[df[\"pid1\"].isin(pids) & df[\"pid2\"].isin(pids)]\n",
    "            partition_df.to_csv(out_file, index=False, compression=\"gzip\")    \n",
    "\n",
    "dataset = \"va_population_network.csv.gz\"\n",
    "partition_by_contact(pd.read_csv(FINAL / dataset), partition_to_pids, [TEST, TRAIN], dataset)"
   ]
  },
  {
   "cell_type": "markdown",
   "id": "9c9afab6",
   "metadata": {},
   "source": [
    "### Inspect partitioned files"
   ]
  },
  {
   "cell_type": "code",
   "execution_count": 23,
   "id": "6e4a0c7c",
   "metadata": {},
   "outputs": [
    {
     "name": "stdout",
     "output_type": "stream",
     "text": [
      "test/client01/va_activity_locations.csv.gz\n",
      "test/client01/predictions_format.csv\n",
      "test/client01/va_household.csv.gz\n",
      "test/client01/va_residence_locations.csv.gz\n",
      "test/client01/va_person.csv.gz\n",
      "test/client01/va_activity_location_assignment.csv.gz\n",
      "test/client01/va_population_network.csv.gz\n",
      "test/client01/va_disease_outcome_training.csv.gz\n",
      "test/client02/predictions_format.csv\n",
      "test/client02/va_activity_locations.csv.gz\n",
      "test/client02/va_household.csv.gz\n",
      "test/client02/va_person.csv.gz\n",
      "test/client02/va_activity_location_assignment.csv.gz\n",
      "test/client02/va_residence_locations.csv.gz\n",
      "test/client02/va_population_network.csv.gz\n",
      "test/client02/va_disease_outcome_training.csv.gz\n",
      "test/client03/predictions_format.csv\n",
      "test/client03/va_activity_locations.csv.gz\n",
      "test/client03/va_household.csv.gz\n",
      "test/client03/va_activity_location_assignment.csv.gz\n",
      "test/client03/va_residence_locations.csv.gz\n",
      "test/client03/va_person.csv.gz\n",
      "test/client03/va_disease_outcome_training.csv.gz\n",
      "test/client03/va_population_network.csv.gz\n",
      "train/client01/va_activity_location_assignment.csv.gz\n",
      "train/client01/va_activity_locations.csv.gz\n",
      "train/client01/va_household.csv.gz\n",
      "train/client01/va_person.csv.gz\n",
      "train/client01/va_residence_locations.csv.gz\n",
      "train/client01/va_disease_outcome_training.csv.gz\n",
      "train/client01/va_population_network.csv.gz\n",
      "train/client02/va_activity_locations.csv.gz\n",
      "train/client02/va_household.csv.gz\n",
      "train/client02/va_person.csv.gz\n",
      "train/client02/va_residence_locations.csv.gz\n",
      "train/client02/va_population_network.csv.gz\n",
      "train/client02/va_activity_location_assignment.csv.gz\n",
      "train/client02/va_disease_outcome_training.csv.gz\n",
      "train/client03/va_household.csv.gz\n",
      "train/client03/va_population_network.csv.gz\n",
      "train/client03/va_activity_locations.csv.gz\n",
      "train/client03/va_disease_outcome_training.csv.gz\n",
      "train/client03/va_person.csv.gz\n",
      "train/client03/va_activity_location_assignment.csv.gz\n",
      "train/client03/va_residence_locations.csv.gz\n"
     ]
    }
   ],
   "source": [
    "print(*[f\"{f.relative_to(OUT_DIR)}\" for f in OUT_DIR.rglob(\"*.csv*\")], sep=\"\\n\")"
   ]
  },
  {
   "cell_type": "code",
   "execution_count": null,
   "id": "f9d13188",
   "metadata": {},
   "outputs": [],
   "source": []
  }
 ],
 "metadata": {
  "kernelspec": {
   "display_name": "Python 3 (ipykernel)",
   "language": "python",
   "name": "python3"
  },
  "language_info": {
   "codemirror_mode": {
    "name": "ipython",
    "version": 3
   },
   "file_extension": ".py",
   "mimetype": "text/x-python",
   "name": "python",
   "nbconvert_exporter": "python",
   "pygments_lexer": "ipython3",
   "version": "3.9.13"
  }
 },
 "nbformat": 4,
 "nbformat_minor": 5
}
